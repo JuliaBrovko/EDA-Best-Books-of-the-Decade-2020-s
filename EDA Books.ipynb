{
 "cells": [
  {
   "cell_type": "markdown",
   "metadata": {},
   "source": [
    "Изучение самых рейтинговых книг 2020-х годов: обзоры, рейтинги от сайта Goodreads\n",
    "\n",
    "Лучшие книги десятилетия: 2020-е годы\n",
    "Коллекция из 2327 лучших книг 2020-х годов на основе оценок пользователей и популярности. \n",
    "\n",
    "Столбцы включают: \n",
    "\n",
    "Index: уникальный идентификатор для каждой книги.\n",
    "\n",
    "Book Name: название книги.\n",
    "\n",
    "Author: автор(ы) книги.\n",
    "\n",
    "Rating: средняя оценка пользователей (по шкале от 1 до 5).\n",
    "\n",
    "Number of Votes: общее количество голосов, полученных книгой.\n",
    "\n",
    "Score: совокупная оценка, рассчитанная на основе оценок и голосов.\n",
    "\n",
    "Цели исследования:\n",
    "\n",
    "1. Предварительный анализ данных, проверка на пропуски и дубликаты, описание датафрейма, приведение соответствия типов данных.\n",
    "\n",
    "2. Визуализация основых численных показателей.\n",
    "\n",
    "3. Корреляция основых численных показателей.\n",
    "\n",
    "5. Топ 5 самых продуктивных авторов.\n",
    "\n",
    "6. Топ 5 авторов с самым высоким рейтингом.\n",
    "\n",
    "7. Топ 5 книг с самым высоким рейтингом.\n",
    "\n",
    "\n"
   ]
  },
  {
   "cell_type": "markdown",
   "metadata": {},
   "source": [
    "Импортируем нужные для работы библиотеки"
   ]
  },
  {
   "cell_type": "code",
   "execution_count": 234,
   "metadata": {},
   "outputs": [],
   "source": [
    "import pandas as pd\n",
    "import numpy as np\n",
    "import re\n",
    "import matplotlib.pyplot as plt\n",
    "import seaborn as sns"
   ]
  },
  {
   "cell_type": "markdown",
   "metadata": {},
   "source": [
    "Считываем датасет"
   ]
  },
  {
   "cell_type": "code",
   "execution_count": 235,
   "metadata": {},
   "outputs": [
    {
     "data": {
      "text/html": [
       "<div>\n",
       "<style scoped>\n",
       "    .dataframe tbody tr th:only-of-type {\n",
       "        vertical-align: middle;\n",
       "    }\n",
       "\n",
       "    .dataframe tbody tr th {\n",
       "        vertical-align: top;\n",
       "    }\n",
       "\n",
       "    .dataframe thead th {\n",
       "        text-align: right;\n",
       "    }\n",
       "</style>\n",
       "<table border=\"1\" class=\"dataframe\">\n",
       "  <thead>\n",
       "    <tr style=\"text-align: right;\">\n",
       "      <th></th>\n",
       "      <th>Index</th>\n",
       "      <th>Book Name</th>\n",
       "      <th>Author</th>\n",
       "      <th>Rating</th>\n",
       "      <th>Number of Votes</th>\n",
       "      <th>Score</th>\n",
       "    </tr>\n",
       "  </thead>\n",
       "  <tbody>\n",
       "    <tr>\n",
       "      <th>0</th>\n",
       "      <td>1</td>\n",
       "      <td>The Invisible Life of Addie LaRue</td>\n",
       "      <td>Victoria Schwab</td>\n",
       "      <td>4.18</td>\n",
       "      <td>1,184,531</td>\n",
       "      <td>62443</td>\n",
       "    </tr>\n",
       "    <tr>\n",
       "      <th>1</th>\n",
       "      <td>2</td>\n",
       "      <td>The House in the Cerulean Sea (Cerulean Chroni...</td>\n",
       "      <td>T.J. Klune</td>\n",
       "      <td>4.40</td>\n",
       "      <td>718,243</td>\n",
       "      <td>47323</td>\n",
       "    </tr>\n",
       "    <tr>\n",
       "      <th>2</th>\n",
       "      <td>3</td>\n",
       "      <td>Project Hail Mary</td>\n",
       "      <td>Andy Weir</td>\n",
       "      <td>4.51</td>\n",
       "      <td>657,869</td>\n",
       "      <td>45972</td>\n",
       "    </tr>\n",
       "    <tr>\n",
       "      <th>3</th>\n",
       "      <td>4</td>\n",
       "      <td>The Midnight Library</td>\n",
       "      <td>Matt Haig</td>\n",
       "      <td>3.99</td>\n",
       "      <td>1,967,348</td>\n",
       "      <td>42746</td>\n",
       "    </tr>\n",
       "    <tr>\n",
       "      <th>4</th>\n",
       "      <td>5</td>\n",
       "      <td>I'm Glad My Mom Died</td>\n",
       "      <td>Jennette McCurdy</td>\n",
       "      <td>4.46</td>\n",
       "      <td>1,151,831</td>\n",
       "      <td>37509</td>\n",
       "    </tr>\n",
       "  </tbody>\n",
       "</table>\n",
       "</div>"
      ],
      "text/plain": [
       "   Index                                          Book Name            Author  \\\n",
       "0      1                  The Invisible Life of Addie LaRue   Victoria Schwab   \n",
       "1      2  The House in the Cerulean Sea (Cerulean Chroni...        T.J. Klune   \n",
       "2      3                                  Project Hail Mary         Andy Weir   \n",
       "3      4                               The Midnight Library         Matt Haig   \n",
       "4      5                               I'm Glad My Mom Died  Jennette McCurdy   \n",
       "\n",
       "  Rating Number of Votes  Score  \n",
       "0   4.18       1,184,531  62443  \n",
       "1   4.40         718,243  47323  \n",
       "2   4.51         657,869  45972  \n",
       "3   3.99       1,967,348  42746  \n",
       "4   4.46       1,151,831  37509  "
      ]
     },
     "execution_count": 235,
     "metadata": {},
     "output_type": "execute_result"
    }
   ],
   "source": [
    "df = pd.read_csv(r'C:\\Users\\Julia\\Downloads\\books_of_the_decade.csv')\n",
    "pd.DataFrame(data = df)\n",
    "df.head()"
   ]
  },
  {
   "cell_type": "markdown",
   "metadata": {},
   "source": [
    "Для удобства переименуем столбцы"
   ]
  },
  {
   "cell_type": "code",
   "execution_count": 236,
   "metadata": {},
   "outputs": [],
   "source": [
    "df = df.rename(columns={'Index':'index', 'Book Name': 'book_name', 'Author': 'author', 'Rating': 'rating', 'Number of Votes': 'number_of_votes', 'Score': 'score'})"
   ]
  },
  {
   "cell_type": "code",
   "execution_count": 253,
   "metadata": {},
   "outputs": [
    {
     "data": {
      "text/html": [
       "<div>\n",
       "<style scoped>\n",
       "    .dataframe tbody tr th:only-of-type {\n",
       "        vertical-align: middle;\n",
       "    }\n",
       "\n",
       "    .dataframe tbody tr th {\n",
       "        vertical-align: top;\n",
       "    }\n",
       "\n",
       "    .dataframe thead th {\n",
       "        text-align: right;\n",
       "    }\n",
       "</style>\n",
       "<table border=\"1\" class=\"dataframe\">\n",
       "  <thead>\n",
       "    <tr style=\"text-align: right;\">\n",
       "      <th></th>\n",
       "      <th>index</th>\n",
       "      <th>book_name</th>\n",
       "      <th>author</th>\n",
       "      <th>rating</th>\n",
       "      <th>number_of_votes</th>\n",
       "      <th>score</th>\n",
       "    </tr>\n",
       "  </thead>\n",
       "  <tbody>\n",
       "    <tr>\n",
       "      <th>0</th>\n",
       "      <td>1</td>\n",
       "      <td>The Invisible Life of Addie LaRue</td>\n",
       "      <td>Victoria Schwab</td>\n",
       "      <td>418.0</td>\n",
       "      <td>1184531</td>\n",
       "      <td>62443</td>\n",
       "    </tr>\n",
       "    <tr>\n",
       "      <th>1</th>\n",
       "      <td>2</td>\n",
       "      <td>The House in the Cerulean Sea (Cerulean Chroni...</td>\n",
       "      <td>T.J. Klune</td>\n",
       "      <td>440.0</td>\n",
       "      <td>718243</td>\n",
       "      <td>47323</td>\n",
       "    </tr>\n",
       "    <tr>\n",
       "      <th>2</th>\n",
       "      <td>3</td>\n",
       "      <td>Project Hail Mary</td>\n",
       "      <td>Andy Weir</td>\n",
       "      <td>451.0</td>\n",
       "      <td>657869</td>\n",
       "      <td>45972</td>\n",
       "    </tr>\n",
       "    <tr>\n",
       "      <th>3</th>\n",
       "      <td>4</td>\n",
       "      <td>The Midnight Library</td>\n",
       "      <td>Matt Haig</td>\n",
       "      <td>399.0</td>\n",
       "      <td>1967348</td>\n",
       "      <td>42746</td>\n",
       "    </tr>\n",
       "    <tr>\n",
       "      <th>4</th>\n",
       "      <td>5</td>\n",
       "      <td>I'm Glad My Mom Died</td>\n",
       "      <td>Jennette McCurdy</td>\n",
       "      <td>446.0</td>\n",
       "      <td>1151831</td>\n",
       "      <td>37509</td>\n",
       "    </tr>\n",
       "    <tr>\n",
       "      <th>...</th>\n",
       "      <td>...</td>\n",
       "      <td>...</td>\n",
       "      <td>...</td>\n",
       "      <td>...</td>\n",
       "      <td>...</td>\n",
       "      <td>...</td>\n",
       "    </tr>\n",
       "    <tr>\n",
       "      <th>2324</th>\n",
       "      <td>2325</td>\n",
       "      <td>Unholy Terrors (Scarlett Force, #2)</td>\n",
       "      <td>C.M. Stunich</td>\n",
       "      <td>449.0</td>\n",
       "      <td>3764</td>\n",
       "      <td>4</td>\n",
       "    </tr>\n",
       "    <tr>\n",
       "      <th>2325</th>\n",
       "      <td>2326</td>\n",
       "      <td>What Happened to the Bennetts</td>\n",
       "      <td>Lisa Scottoline</td>\n",
       "      <td>380.0</td>\n",
       "      <td>73552</td>\n",
       "      <td>4</td>\n",
       "    </tr>\n",
       "    <tr>\n",
       "      <th>2326</th>\n",
       "      <td>2327</td>\n",
       "      <td>Troubled: The Failed Promise of America's Beha...</td>\n",
       "      <td>Kenneth R. Rosen</td>\n",
       "      <td>348.0</td>\n",
       "      <td>430</td>\n",
       "      <td>3</td>\n",
       "    </tr>\n",
       "    <tr>\n",
       "      <th>2327</th>\n",
       "      <td>2328</td>\n",
       "      <td>The Foundling</td>\n",
       "      <td>Ann Leary</td>\n",
       "      <td>389.0</td>\n",
       "      <td>12851</td>\n",
       "      <td>3</td>\n",
       "    </tr>\n",
       "    <tr>\n",
       "      <th>2328</th>\n",
       "      <td>2329</td>\n",
       "      <td>The Mermaid from Jeju</td>\n",
       "      <td>Sumi Hahn</td>\n",
       "      <td>389.0</td>\n",
       "      <td>3774</td>\n",
       "      <td>2</td>\n",
       "    </tr>\n",
       "  </tbody>\n",
       "</table>\n",
       "<p>2329 rows × 6 columns</p>\n",
       "</div>"
      ],
      "text/plain": [
       "      index                                          book_name  \\\n",
       "0         1                  The Invisible Life of Addie LaRue   \n",
       "1         2  The House in the Cerulean Sea (Cerulean Chroni...   \n",
       "2         3                                  Project Hail Mary   \n",
       "3         4                               The Midnight Library   \n",
       "4         5                               I'm Glad My Mom Died   \n",
       "...     ...                                                ...   \n",
       "2324   2325                Unholy Terrors (Scarlett Force, #2)   \n",
       "2325   2326                      What Happened to the Bennetts   \n",
       "2326   2327  Troubled: The Failed Promise of America's Beha...   \n",
       "2327   2328                                      The Foundling   \n",
       "2328   2329                              The Mermaid from Jeju   \n",
       "\n",
       "                author  rating  number_of_votes  score  \n",
       "0      Victoria Schwab   418.0          1184531  62443  \n",
       "1           T.J. Klune   440.0           718243  47323  \n",
       "2            Andy Weir   451.0           657869  45972  \n",
       "3            Matt Haig   399.0          1967348  42746  \n",
       "4     Jennette McCurdy   446.0          1151831  37509  \n",
       "...                ...     ...              ...    ...  \n",
       "2324      C.M. Stunich   449.0             3764      4  \n",
       "2325   Lisa Scottoline   380.0            73552      4  \n",
       "2326  Kenneth R. Rosen   348.0              430      3  \n",
       "2327         Ann Leary   389.0            12851      3  \n",
       "2328         Sumi Hahn   389.0             3774      2  \n",
       "\n",
       "[2329 rows x 6 columns]"
      ]
     },
     "execution_count": 253,
     "metadata": {},
     "output_type": "execute_result"
    }
   ],
   "source": [
    "df"
   ]
  },
  {
   "cell_type": "markdown",
   "metadata": {},
   "source": [
    "Проверим, соотвествуют ли типы данных"
   ]
  },
  {
   "cell_type": "code",
   "execution_count": 237,
   "metadata": {},
   "outputs": [
    {
     "data": {
      "text/plain": [
       "index               int64\n",
       "book_name          object\n",
       "author             object\n",
       "rating             object\n",
       "number_of_votes    object\n",
       "score               int64\n",
       "dtype: object"
      ]
     },
     "execution_count": 237,
     "metadata": {},
     "output_type": "execute_result"
    }
   ],
   "source": [
    "df.dtypes"
   ]
  },
  {
   "cell_type": "markdown",
   "metadata": {},
   "source": [
    "Rating и Number of Votes необходимо преобразовать в численные"
   ]
  },
  {
   "cell_type": "code",
   "execution_count": 238,
   "metadata": {},
   "outputs": [],
   "source": [
    "# Предварительно удаляем запятые и все нечисловые символы \n",
    "df['number_of_votes'] = df['number_of_votes'].apply(lambda x: re.sub(r'\\D', '', x)).str.replace(',', '').astype(np.int64)\n",
    "df['rating'] = df['rating'].apply(lambda x: re.sub(r'\\D', '', x)).str.replace('.', '').astype(np.float64)"
   ]
  },
  {
   "cell_type": "code",
   "execution_count": 239,
   "metadata": {},
   "outputs": [
    {
     "data": {
      "text/plain": [
       "index                int64\n",
       "book_name           object\n",
       "author              object\n",
       "rating             float64\n",
       "number_of_votes      int64\n",
       "score                int64\n",
       "dtype: object"
      ]
     },
     "execution_count": 239,
     "metadata": {},
     "output_type": "execute_result"
    }
   ],
   "source": [
    "df.dtypes"
   ]
  },
  {
   "cell_type": "markdown",
   "metadata": {},
   "source": [
    "Проверим на пропуски и дубликаты"
   ]
  },
  {
   "cell_type": "code",
   "execution_count": 240,
   "metadata": {},
   "outputs": [
    {
     "data": {
      "text/plain": [
       "index              0\n",
       "book_name          0\n",
       "author             0\n",
       "rating             0\n",
       "number_of_votes    0\n",
       "score              0\n",
       "dtype: int64"
      ]
     },
     "execution_count": 240,
     "metadata": {},
     "output_type": "execute_result"
    }
   ],
   "source": [
    "df.isna().sum()"
   ]
  },
  {
   "cell_type": "code",
   "execution_count": 241,
   "metadata": {},
   "outputs": [
    {
     "data": {
      "text/plain": [
       "np.int64(0)"
      ]
     },
     "execution_count": 241,
     "metadata": {},
     "output_type": "execute_result"
    }
   ],
   "source": [
    "df.duplicated().sum()"
   ]
  },
  {
   "cell_type": "markdown",
   "metadata": {},
   "source": [
    "Дубликатов и пропущенных значений нет"
   ]
  },
  {
   "cell_type": "markdown",
   "metadata": {},
   "source": [
    "Описание датафрейма:\n",
    "\n",
    "Количество записей: 2329 книг.\n",
    "\n",
    "Средний рейтинг: 403.69, с минимумом 266 и максимумом 500.\n",
    "\n",
    "Количество голосов: в среднем 61,916 голосов, с минимумом 1 и максимумом 2,071,618.\n",
    "\n",
    "Оценка: среднее значение 597.60, с минимумом 2 и максимумом 62,443."
   ]
  },
  {
   "cell_type": "code",
   "execution_count": 242,
   "metadata": {},
   "outputs": [
    {
     "data": {
      "text/html": [
       "<div>\n",
       "<style scoped>\n",
       "    .dataframe tbody tr th:only-of-type {\n",
       "        vertical-align: middle;\n",
       "    }\n",
       "\n",
       "    .dataframe tbody tr th {\n",
       "        vertical-align: top;\n",
       "    }\n",
       "\n",
       "    .dataframe thead th {\n",
       "        text-align: right;\n",
       "    }\n",
       "</style>\n",
       "<table border=\"1\" class=\"dataframe\">\n",
       "  <thead>\n",
       "    <tr style=\"text-align: right;\">\n",
       "      <th></th>\n",
       "      <th>count</th>\n",
       "      <th>mean</th>\n",
       "      <th>std</th>\n",
       "      <th>min</th>\n",
       "      <th>25%</th>\n",
       "      <th>50%</th>\n",
       "      <th>75%</th>\n",
       "      <th>max</th>\n",
       "    </tr>\n",
       "  </thead>\n",
       "  <tbody>\n",
       "    <tr>\n",
       "      <th>index</th>\n",
       "      <td>2329.0</td>\n",
       "      <td>1165.000000</td>\n",
       "      <td>672.468711</td>\n",
       "      <td>1.0</td>\n",
       "      <td>583.0</td>\n",
       "      <td>1165.0</td>\n",
       "      <td>1747.0</td>\n",
       "      <td>2329.0</td>\n",
       "    </tr>\n",
       "    <tr>\n",
       "      <th>rating</th>\n",
       "      <td>2329.0</td>\n",
       "      <td>403.690854</td>\n",
       "      <td>31.916796</td>\n",
       "      <td>266.0</td>\n",
       "      <td>382.0</td>\n",
       "      <td>406.0</td>\n",
       "      <td>426.0</td>\n",
       "      <td>500.0</td>\n",
       "    </tr>\n",
       "    <tr>\n",
       "      <th>number_of_votes</th>\n",
       "      <td>2329.0</td>\n",
       "      <td>61915.647059</td>\n",
       "      <td>163772.967992</td>\n",
       "      <td>1.0</td>\n",
       "      <td>2691.0</td>\n",
       "      <td>12019.0</td>\n",
       "      <td>49922.0</td>\n",
       "      <td>2071618.0</td>\n",
       "    </tr>\n",
       "    <tr>\n",
       "      <th>score</th>\n",
       "      <td>2329.0</td>\n",
       "      <td>597.599399</td>\n",
       "      <td>2947.850623</td>\n",
       "      <td>2.0</td>\n",
       "      <td>79.0</td>\n",
       "      <td>97.0</td>\n",
       "      <td>195.0</td>\n",
       "      <td>62443.0</td>\n",
       "    </tr>\n",
       "  </tbody>\n",
       "</table>\n",
       "</div>"
      ],
      "text/plain": [
       "                  count          mean            std    min     25%      50%  \\\n",
       "index            2329.0   1165.000000     672.468711    1.0   583.0   1165.0   \n",
       "rating           2329.0    403.690854      31.916796  266.0   382.0    406.0   \n",
       "number_of_votes  2329.0  61915.647059  163772.967992    1.0  2691.0  12019.0   \n",
       "score            2329.0    597.599399    2947.850623    2.0    79.0     97.0   \n",
       "\n",
       "                     75%        max  \n",
       "index             1747.0     2329.0  \n",
       "rating             426.0      500.0  \n",
       "number_of_votes  49922.0  2071618.0  \n",
       "score              195.0    62443.0  "
      ]
     },
     "execution_count": 242,
     "metadata": {},
     "output_type": "execute_result"
    }
   ],
   "source": [
    "df.describe().T"
   ]
  },
  {
   "cell_type": "markdown",
   "metadata": {},
   "source": [
    "Построим графики для визуализации распределения рейтингов и оценок:"
   ]
  },
  {
   "cell_type": "code",
   "execution_count": 252,
   "metadata": {},
   "outputs": [
    {
     "data": {
      "image/png": "[encoded data removed]",
      "text/plain": [
       "<Figure size 1200x600 with 2 Axes>"
      ]
     },
     "metadata": {},
     "output_type": "display_data"
    }
   ],
   "source": [
    "plt.figure(figsize=(12, 6))\n",
    "\n",
    "# Распределение рейтингов\n",
    "plt.subplot(1, 2, 1)\n",
    "sns.histplot(df['rating'], bins=30, kde=True)\n",
    "plt.title('Распределение рейтингов')\n",
    "plt.xlabel('Рейтинг')\n",
    "plt.ylabel('Частота')\n",
    "\n",
    "# Распределение оценок\n",
    "plt.subplot(1, 2, 2)\n",
    "sns.histplot(df['score'], bins=30, kde=True)\n",
    "plt.title('Распределение оценок')\n",
    "plt.xlabel('Оценка')\n",
    "plt.ylabel('Частота')\n",
    "\n",
    "plt.tight_layout()\n",
    "plt.show()"
   ]
  },
  {
   "cell_type": "markdown",
   "metadata": {},
   "source": [
    "Распределение рейтинга оказалось нормальным, большинство книг имеет рейтинг около 400, с небольшим количеством книг с более низкими и более высокими рейтингами.\n",
    "Распределение оценок показало, что большая часть сосредоточена в диапазоне от 50 до 200, но есть несколько книг с очень высокими значениями."
   ]
  },
  {
   "cell_type": "code",
   "execution_count": 260,
   "metadata": {},
   "outputs": [
    {
     "data": {
      "text/html": [
       "<div>\n",
       "<style scoped>\n",
       "    .dataframe tbody tr th:only-of-type {\n",
       "        vertical-align: middle;\n",
       "    }\n",
       "\n",
       "    .dataframe tbody tr th {\n",
       "        vertical-align: top;\n",
       "    }\n",
       "\n",
       "    .dataframe thead th {\n",
       "        text-align: right;\n",
       "    }\n",
       "</style>\n",
       "<table border=\"1\" class=\"dataframe\">\n",
       "  <thead>\n",
       "    <tr style=\"text-align: right;\">\n",
       "      <th></th>\n",
       "      <th>book_name</th>\n",
       "      <th>score</th>\n",
       "    </tr>\n",
       "  </thead>\n",
       "  <tbody>\n",
       "    <tr>\n",
       "      <th>0</th>\n",
       "      <td>The Invisible Life of Addie LaRue</td>\n",
       "      <td>62443</td>\n",
       "    </tr>\n",
       "    <tr>\n",
       "      <th>1</th>\n",
       "      <td>The House in the Cerulean Sea (Cerulean Chroni...</td>\n",
       "      <td>47323</td>\n",
       "    </tr>\n",
       "    <tr>\n",
       "      <th>2</th>\n",
       "      <td>Project Hail Mary</td>\n",
       "      <td>45972</td>\n",
       "    </tr>\n",
       "    <tr>\n",
       "      <th>3</th>\n",
       "      <td>The Midnight Library</td>\n",
       "      <td>42746</td>\n",
       "    </tr>\n",
       "    <tr>\n",
       "      <th>4</th>\n",
       "      <td>I'm Glad My Mom Died</td>\n",
       "      <td>37509</td>\n",
       "    </tr>\n",
       "  </tbody>\n",
       "</table>\n",
       "</div>"
      ],
      "text/plain": [
       "                                           book_name  score\n",
       "0                  The Invisible Life of Addie LaRue  62443\n",
       "1  The House in the Cerulean Sea (Cerulean Chroni...  47323\n",
       "2                                  Project Hail Mary  45972\n",
       "3                               The Midnight Library  42746\n",
       "4                               I'm Glad My Mom Died  37509"
      ]
     },
     "execution_count": 260,
     "metadata": {},
     "output_type": "execute_result"
    }
   ],
   "source": [
    "df[['book_name', 'score']].sort_values('score', ascending=False).head(5)"
   ]
  },
  {
   "cell_type": "markdown",
   "metadata": {},
   "source": [
    "Посмотрим на корреляцию между рейтингом, количеством голосов и оценками:"
   ]
  },
  {
   "cell_type": "code",
   "execution_count": 244,
   "metadata": {},
   "outputs": [
    {
     "data": {
      "image/png": "[encoded data removed]",
      "text/plain": [
       "<Figure size 800x600 with 2 Axes>"
      ]
     },
     "metadata": {},
     "output_type": "display_data"
    }
   ],
   "source": [
    "correlation_matrix = df[['rating', 'number_of_votes', 'score']].corr()\n",
    "plt.figure(figsize=(8, 6))\n",
    "sns.heatmap(correlation_matrix, annot=True, cmap='coolwarm', fmt='.2f')\n",
    "plt.title('Корреляционная матрица')\n",
    "plt.show()"
   ]
  },
  {
   "cell_type": "markdown",
   "metadata": {},
   "source": [
    "Корреляция между рейтингом и количеством голосов: положительная корреляция (приблизительно 0.78).\n",
    "\n",
    "Корреляция между рейтингом и оценкой: также положительная (около 0.68).\n",
    "\n",
    "Корреляция между количеством голосов и оценкой: существует высокая положительная корреляция (приблизительно 0.73).\n",
    "\n",
    "Вывод\n",
    "\n",
    "Книги с более высоким рейтингом, как правило, имеют больше голосов и высокую оценку."
   ]
  },
  {
   "cell_type": "markdown",
   "metadata": {},
   "source": [
    "Далее посмотрим на выдающиеся книги и выдающихся авторов по разным критериям."
   ]
  },
  {
   "cell_type": "code",
   "execution_count": 245,
   "metadata": {},
   "outputs": [
    {
     "name": "stderr",
     "output_type": "stream",
     "text": [
      "C:\\Users\\Julia\\AppData\\Local\\Temp\\ipykernel_28324\\3248094299.py:7: FutureWarning: \n",
      "\n",
      "Passing `palette` without assigning `hue` is deprecated and will be removed in v0.14.0. Assign the `y` variable to `hue` and set `legend=False` for the same effect.\n",
      "\n",
      "  sns.barplot(x=top_authors_productivity.number_of_books, y=top_authors_productivity.author, palette='cividis')\n"
     ]
    },
    {
     "data": {
      "image/png": "[encoded data removed]",
      "text/plain": [
       "<Figure size 640x480 with 1 Axes>"
      ]
     },
     "metadata": {},
     "output_type": "display_data"
    },
    {
     "data": {
      "text/plain": [
       "<Figure size 1500x1000 with 0 Axes>"
      ]
     },
     "execution_count": 245,
     "metadata": {},
     "output_type": "execute_result"
    },
    {
     "data": {
      "text/plain": [
       "<Figure size 1500x1000 with 0 Axes>"
      ]
     },
     "metadata": {},
     "output_type": "display_data"
    }
   ],
   "source": [
    "top_authors_productivity = df.groupby('author',as_index = False)\\\n",
    "    .agg({'book_name':'count'})\\\n",
    "    .sort_values('book_name',ascending=False)\\\n",
    "    .rename(columns={'book_name':'number_of_books'}).head(5)\n",
    "\n",
    "plt.subplot(3, 1, 3)\n",
    "sns.barplot(x=top_authors_productivity.number_of_books, y=top_authors_productivity.author, palette='cividis')\n",
    "plt.title('Топ 5 самых продуктивных авторов')\n",
    "plt.xlabel('Количество книг')\n",
    "plt.ylabel('Автор')\n",
    "\n",
    "plt.tight_layout()\n",
    "plt.show()\n",
    "plt.figure(figsize=(15, 10))\n"
   ]
  },
  {
   "cell_type": "code",
   "execution_count": 246,
   "metadata": {},
   "outputs": [
    {
     "data": {
      "text/html": [
       "<div>\n",
       "<style scoped>\n",
       "    .dataframe tbody tr th:only-of-type {\n",
       "        vertical-align: middle;\n",
       "    }\n",
       "\n",
       "    .dataframe tbody tr th {\n",
       "        vertical-align: top;\n",
       "    }\n",
       "\n",
       "    .dataframe thead th {\n",
       "        text-align: right;\n",
       "    }\n",
       "</style>\n",
       "<table border=\"1\" class=\"dataframe\">\n",
       "  <thead>\n",
       "    <tr style=\"text-align: right;\">\n",
       "      <th></th>\n",
       "      <th>author</th>\n",
       "      <th>number_of_votes</th>\n",
       "      <th>rating</th>\n",
       "    </tr>\n",
       "  </thead>\n",
       "  <tbody>\n",
       "    <tr>\n",
       "      <th>282</th>\n",
       "      <td>Caroline Peckham</td>\n",
       "      <td>14</td>\n",
       "      <td>434.714286</td>\n",
       "    </tr>\n",
       "    <tr>\n",
       "      <th>688</th>\n",
       "      <td>J. Bree</td>\n",
       "      <td>14</td>\n",
       "      <td>430.285714</td>\n",
       "    </tr>\n",
       "    <tr>\n",
       "      <th>230</th>\n",
       "      <td>Brandon Sanderson</td>\n",
       "      <td>13</td>\n",
       "      <td>425.769231</td>\n",
       "    </tr>\n",
       "    <tr>\n",
       "      <th>709</th>\n",
       "      <td>James Patterson</td>\n",
       "      <td>12</td>\n",
       "      <td>422.250000</td>\n",
       "    </tr>\n",
       "    <tr>\n",
       "      <th>1644</th>\n",
       "      <td>Tate James</td>\n",
       "      <td>11</td>\n",
       "      <td>442.272727</td>\n",
       "    </tr>\n",
       "  </tbody>\n",
       "</table>\n",
       "</div>"
      ],
      "text/plain": [
       "                 author  number_of_votes      rating\n",
       "282    Caroline Peckham               14  434.714286\n",
       "688             J. Bree               14  430.285714\n",
       "230   Brandon Sanderson               13  425.769231\n",
       "709     James Patterson               12  422.250000\n",
       "1644         Tate James               11  442.272727"
      ]
     },
     "execution_count": 246,
     "metadata": {},
     "output_type": "execute_result"
    }
   ],
   "source": [
    "top_authors_best_sellers = df.groupby('author', as_index=False) \\\n",
    "    .agg(number_of_votes=('number_of_votes', 'count'), \n",
    "         rating=('rating', 'mean')) \\\n",
    "    .sort_values(['number_of_votes', 'rating'], ascending=False) \\\n",
    "    .head(5)\n",
    "top_authors_best_sellers\n"
   ]
  },
  {
   "cell_type": "code",
   "execution_count": 247,
   "metadata": {},
   "outputs": [
    {
     "name": "stderr",
     "output_type": "stream",
     "text": [
      "C:\\Users\\Julia\\AppData\\Local\\Temp\\ipykernel_28324\\2484054149.py:2: FutureWarning: \n",
      "\n",
      "Passing `palette` without assigning `hue` is deprecated and will be removed in v0.14.0. Assign the `y` variable to `hue` and set `legend=False` for the same effect.\n",
      "\n",
      "  sns.barplot(x=top_authors_best_sellers.rating, y=top_authors_best_sellers.author, palette='magma')\n"
     ]
    },
    {
     "data": {
      "image/png": "[encoded data removed]",
      "text/plain": [
       "<Figure size 640x480 with 1 Axes>"
      ]
     },
     "metadata": {},
     "output_type": "display_data"
    },
    {
     "data": {
      "text/plain": [
       "<Figure size 1500x1000 with 0 Axes>"
      ]
     },
     "execution_count": 247,
     "metadata": {},
     "output_type": "execute_result"
    },
    {
     "data": {
      "text/plain": [
       "<Figure size 1500x1000 with 0 Axes>"
      ]
     },
     "metadata": {},
     "output_type": "display_data"
    }
   ],
   "source": [
    "plt.subplot(3, 1, 2)\n",
    "sns.barplot(x=top_authors_best_sellers.rating, y=top_authors_best_sellers.author, palette='magma')\n",
    "plt.title('Топ 5 авторов с самым высоким рейтингом')\n",
    "plt.xlabel('Рейтинг (с учетом кол-ва голосов)')\n",
    "plt.ylabel('Автор')\n",
    "\n",
    "plt.tight_layout()\n",
    "plt.show()\n",
    "plt.figure(figsize=(15, 10))"
   ]
  },
  {
   "cell_type": "markdown",
   "metadata": {},
   "source": [
    "Авторы, которые написали наибольшее количество книги оказалить также самыми популярным: у написанных или книг самые высокие рейтинги."
   ]
  },
  {
   "cell_type": "code",
   "execution_count": 248,
   "metadata": {},
   "outputs": [
    {
     "data": {
      "text/html": [
       "<div>\n",
       "<style scoped>\n",
       "    .dataframe tbody tr th:only-of-type {\n",
       "        vertical-align: middle;\n",
       "    }\n",
       "\n",
       "    .dataframe tbody tr th {\n",
       "        vertical-align: top;\n",
       "    }\n",
       "\n",
       "    .dataframe thead th {\n",
       "        text-align: right;\n",
       "    }\n",
       "</style>\n",
       "<table border=\"1\" class=\"dataframe\">\n",
       "  <thead>\n",
       "    <tr style=\"text-align: right;\">\n",
       "      <th></th>\n",
       "      <th>book_name</th>\n",
       "      <th>number_of_votes</th>\n",
       "      <th>rating</th>\n",
       "    </tr>\n",
       "  </thead>\n",
       "  <tbody>\n",
       "    <tr>\n",
       "      <th>1632</th>\n",
       "      <td>The Glass House</td>\n",
       "      <td>2</td>\n",
       "      <td>393.0</td>\n",
       "    </tr>\n",
       "    <tr>\n",
       "      <th>1935</th>\n",
       "      <td>The Silence</td>\n",
       "      <td>2</td>\n",
       "      <td>323.5</td>\n",
       "    </tr>\n",
       "    <tr>\n",
       "      <th>186</th>\n",
       "      <td>Anshuman krit Saral Vastu Gyan</td>\n",
       "      <td>1</td>\n",
       "      <td>500.0</td>\n",
       "    </tr>\n",
       "    <tr>\n",
       "      <th>199</th>\n",
       "      <td>Arizona SB 1070: An Act</td>\n",
       "      <td>1</td>\n",
       "      <td>500.0</td>\n",
       "    </tr>\n",
       "    <tr>\n",
       "      <th>866</th>\n",
       "      <td>Kundiman for Kin/Information Retrieval for Mon...</td>\n",
       "      <td>1</td>\n",
       "      <td>500.0</td>\n",
       "    </tr>\n",
       "  </tbody>\n",
       "</table>\n",
       "</div>"
      ],
      "text/plain": [
       "                                              book_name  number_of_votes  \\\n",
       "1632                                    The Glass House                2   \n",
       "1935                                        The Silence                2   \n",
       "186                      Anshuman krit Saral Vastu Gyan                1   \n",
       "199                             Arizona SB 1070: An Act                1   \n",
       "866   Kundiman for Kin/Information Retrieval for Mon...                1   \n",
       "\n",
       "      rating  \n",
       "1632   393.0  \n",
       "1935   323.5  \n",
       "186    500.0  \n",
       "199    500.0  \n",
       "866    500.0  "
      ]
     },
     "execution_count": 248,
     "metadata": {},
     "output_type": "execute_result"
    }
   ],
   "source": [
    "top_best_sellers = df.groupby('book_name', as_index=False) \\\n",
    "    .agg(number_of_votes=('number_of_votes', 'count'), \n",
    "         rating=('rating', 'mean')) \\\n",
    "    .sort_values(['number_of_votes', 'rating'], ascending=False) \\\n",
    "    .head(5)\n",
    "top_best_sellers"
   ]
  },
  {
   "cell_type": "code",
   "execution_count": 249,
   "metadata": {},
   "outputs": [
    {
     "name": "stderr",
     "output_type": "stream",
     "text": [
      "C:\\Users\\Julia\\AppData\\Local\\Temp\\ipykernel_28324\\2402014090.py:2: FutureWarning: \n",
      "\n",
      "Passing `palette` without assigning `hue` is deprecated and will be removed in v0.14.0. Assign the `y` variable to `hue` and set `legend=False` for the same effect.\n",
      "\n",
      "  sns.barplot(x=top_best_sellers.rating, y=top_best_sellers.book_name, palette='cividis')\n"
     ]
    },
    {
     "data": {
      "image/png": "[encoded data removed]",
      "text/plain": [
       "<Figure size 640x480 with 1 Axes>"
      ]
     },
     "metadata": {},
     "output_type": "display_data"
    },
    {
     "data": {
      "text/plain": [
       "<Figure size 1500x1000 with 0 Axes>"
      ]
     },
     "execution_count": 249,
     "metadata": {},
     "output_type": "execute_result"
    },
    {
     "data": {
      "text/plain": [
       "<Figure size 1500x1000 with 0 Axes>"
      ]
     },
     "metadata": {},
     "output_type": "display_data"
    }
   ],
   "source": [
    "plt.subplot(3, 1, 2)\n",
    "sns.barplot(x=top_best_sellers.rating, y=top_best_sellers.book_name, palette='cividis')\n",
    "plt.title('Топ 5 книг с самым высоким рейтингом')\n",
    "plt.xlabel('Рейтинг (с учетом кол-ва голосов)')\n",
    "plt.ylabel('Книга')\n",
    "\n",
    "plt.tight_layout()\n",
    "plt.show()\n",
    "plt.figure(figsize=(15, 10))"
   ]
  }
 ],
 "metadata": {
  "kernelspec": {
   "display_name": "Python 3",
   "language": "python",
   "name": "python3"
  },
  "language_info": {
   "codemirror_mode": {
    "name": "ipython",
    "version": 3
   },
   "file_extension": ".py",
   "mimetype": "text/x-python",
   "name": "python",
   "nbconvert_exporter": "python",
   "pygments_lexer": "ipython3",
   "version": "3.12.7"
  }
 },
 "nbformat": 4,
 "nbformat_minor": 2
}
